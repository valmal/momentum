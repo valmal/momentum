{
 "cells": [
  {
   "cell_type": "code",
   "execution_count": 208,
   "metadata": {},
   "outputs": [],
   "source": [
    "##import packages##\n",
    "import matplotlib.pyplot as plt\n",
    "import pandas as pd\n",
    "import numpy as np\n",
    "import datetime\n",
    "import glob"
   ]
  },
  {
   "cell_type": "code",
   "execution_count": 209,
   "metadata": {},
   "outputs": [],
   "source": [
    "#define path\n",
    "path=r\"/Users/valeriyamalenko/Desktop/trading/trading/momentum/data/mecklai-finance/\"\n",
    "\n",
    "#list paths to usd-term files\n",
    "files=glob.glob(path +\"/*-usd.csv\")\n",
    "\n",
    "#open the first file\n",
    "tb=pd.read_csv(files[0])\n",
    "\n",
    "#append all other files in the directory to the first file\n",
    "for i in files[1:]:\n",
    "    tb1=pd.read_csv(i, header=0)\n",
    "    tb=tb.append(tb1)\n",
    "    \n",
    "tb=tb[['Currency', 'Date', 'SpotDate', 'SpotRate', 'col1']]\n",
    "tb=tb.drop_duplicates()\n",
    "tb=tb.reset_index()\n",
    "tb.drop('index', inplace=True, axis='columns')\n",
    "\n",
    "tb.SpotRate=1/tb.SpotRate\n",
    "tb.col1=1/tb.col1\n",
    "\n",
    "a=tb.Currency.str.split(\"/\")\n",
    "tb[\"Currency\"]=a.str[1]+\"/\"+a.str[0]"
   ]
  },
  {
   "cell_type": "code",
   "execution_count": 210,
   "metadata": {},
   "outputs": [],
   "source": [
    "#list paths to all usd-base files\n",
    "files=glob.glob(path +\"/usd-*.csv\")\n",
    "\n",
    "#open the first file\n",
    "tb2=pd.read_csv(files[0])\n",
    "\n",
    "#append all other files in the directory to the first file\n",
    "for i in files[1:]:\n",
    "    tb3=pd.read_csv(i, header=0)\n",
    "    tb2=tb2.append(tb3)\n",
    "    \n",
    "tb2=tb2[['Currency', 'Date', 'SpotDate', 'SpotRate', 'col1']]\n",
    "tb2=tb2.drop_duplicates()\n",
    "tb2=tb2.reset_index()\n",
    "tb2.drop('index', inplace=True, axis='columns')"
   ]
  },
  {
   "cell_type": "code",
   "execution_count": 211,
   "metadata": {},
   "outputs": [],
   "source": [
    "#adding usd-term and usd-base dfs\n",
    "frames=[tb,tb2]\n",
    "df=pd.concat(frames)"
   ]
  },
  {
   "cell_type": "code",
   "execution_count": 212,
   "metadata": {},
   "outputs": [
    {
     "data": {
      "text/plain": [
       "2016"
      ]
     },
     "execution_count": 212,
     "metadata": {},
     "output_type": "execute_result"
    }
   ],
   "source": [
    "##cleaning and transforming the data##\n",
    "\n",
    "#convert date to datetime\n",
    "df.Date=pd.to_datetime(df.Date)\n",
    "\n",
    "#drop duplicates\n",
    "ccy_l=df['Currency'].unique().tolist()\n",
    "i=ccy_l[0]\n",
    "df1=df[df['Currency']==i]\n",
    "df1=df1.drop_duplicates(['Date'])\n",
    "\n",
    "for i in ccy_l[1:]:\n",
    "    df2=df[df['Currency']==i]\n",
    "    df2=df2.drop_duplicates(['Date'])\n",
    "    df1=df1.append(df2)\n",
    "df=df1\n",
    "\n",
    "#set date to be the index\n",
    "df=df.set_index('Date')\n",
    "\n",
    "#rename the column\n",
    "df.rename(columns={'col1': 'fwd1m'}, inplace=True)\n",
    "\n",
    "#delete missing data\n",
    "df = df.loc[df[\"SpotRate\"]!=0]\n",
    "df = df.loc[df[\"fwd1m\"]!=0]\n",
    "\n",
    "#generate new cols for logs of spot and fwd rates\n",
    "df['logSpotRate']=np.log(df.SpotRate)\n",
    "df['logfwd1m']=np.log(df.fwd1m)\n",
    "\n",
    "#select last day of the month for each month\n",
    "df=df.loc[df.reset_index().groupby(df.index.to_period('M'))['Date'].max()]\n",
    "\n",
    "#exclude data for 2019\n",
    "dt = datetime.datetime(2019, 1, 1)\n",
    "df=df[df.index < np.datetime64(dt)]\n",
    "\n",
    "#checking the length (21*12*8 = 2016)\n",
    "len(df)"
   ]
  },
  {
   "cell_type": "code",
   "execution_count": 213,
   "metadata": {},
   "outputs": [
    {
     "name": "stderr",
     "output_type": "stream",
     "text": [
      "/Users/valeriyamalenko/anaconda3/lib/python3.6/site-packages/ipykernel_launcher.py:8: SettingWithCopyWarning: \n",
      "A value is trying to be set on a copy of a slice from a DataFrame.\n",
      "Try using .loc[row_indexer,col_indexer] = value instead\n",
      "\n",
      "See the caveats in the documentation: http://pandas.pydata.org/pandas-docs/stable/indexing.html#indexing-view-versus-copy\n",
      "  \n",
      "/Users/valeriyamalenko/anaconda3/lib/python3.6/site-packages/ipykernel_launcher.py:10: SettingWithCopyWarning: \n",
      "A value is trying to be set on a copy of a slice from a DataFrame.\n",
      "Try using .loc[row_indexer,col_indexer] = value instead\n",
      "\n",
      "See the caveats in the documentation: http://pandas.pydata.org/pandas-docs/stable/indexing.html#indexing-view-versus-copy\n",
      "  # Remove the CWD from sys.path while we load stuff.\n"
     ]
    },
    {
     "ename": "NameError",
     "evalue": "name 'ccy_list' is not defined",
     "output_type": "error",
     "traceback": [
      "\u001b[0;31m---------------------------------------------------------------------------\u001b[0m",
      "\u001b[0;31mNameError\u001b[0m                                 Traceback (most recent call last)",
      "\u001b[0;32m<ipython-input-213-75007eac01aa>\u001b[0m in \u001b[0;36m<module>\u001b[0;34m()\u001b[0m\n\u001b[1;32m     11\u001b[0m \u001b[0;34m\u001b[0m\u001b[0m\n\u001b[1;32m     12\u001b[0m \u001b[0;31m#repeat this for all ccies\u001b[0m\u001b[0;34m\u001b[0m\u001b[0;34m\u001b[0m\u001b[0m\n\u001b[0;32m---> 13\u001b[0;31m \u001b[0;32mfor\u001b[0m \u001b[0mi\u001b[0m \u001b[0;32min\u001b[0m \u001b[0mccy_list\u001b[0m\u001b[0;34m[\u001b[0m\u001b[0;36m1\u001b[0m\u001b[0;34m:\u001b[0m\u001b[0;34m]\u001b[0m\u001b[0;34m:\u001b[0m\u001b[0;34m\u001b[0m\u001b[0m\n\u001b[0m\u001b[1;32m     14\u001b[0m     \u001b[0mtb\u001b[0m\u001b[0;34m=\u001b[0m\u001b[0mdf\u001b[0m\u001b[0;34m.\u001b[0m\u001b[0mloc\u001b[0m\u001b[0;34m[\u001b[0m\u001b[0mdf\u001b[0m\u001b[0;34m[\u001b[0m\u001b[0;34m'Currency'\u001b[0m\u001b[0;34m]\u001b[0m\u001b[0;34m==\u001b[0m\u001b[0mi\u001b[0m\u001b[0;34m]\u001b[0m\u001b[0;34m\u001b[0m\u001b[0m\n\u001b[1;32m     15\u001b[0m     \u001b[0mtb\u001b[0m\u001b[0;34m[\u001b[0m\u001b[0;34m'shiftlogfwd1m'\u001b[0m\u001b[0;34m]\u001b[0m\u001b[0;34m=\u001b[0m\u001b[0mtb\u001b[0m\u001b[0;34m.\u001b[0m\u001b[0mlogfwd1m\u001b[0m\u001b[0;34m.\u001b[0m\u001b[0mshift\u001b[0m\u001b[0;34m(\u001b[0m\u001b[0;36m1\u001b[0m\u001b[0;34m)\u001b[0m\u001b[0;34m\u001b[0m\u001b[0m\n",
      "\u001b[0;31mNameError\u001b[0m: name 'ccy_list' is not defined"
     ]
    }
   ],
   "source": [
    "#transform pairs to be in per dollar terms\n",
    "ccy_n=len(ccy_l)\n",
    "\n",
    "#take a ccy data set\n",
    "df1=df.loc[df['Currency']==ccy_l[0]]\n",
    "\n",
    "#shift the fwd rate down\n",
    "df1['shiftlogfwd1m']=df1.logfwd1m.shift(1)\n",
    "#calculate return\n",
    "df1['ret']=df1['shiftlogfwd1m']-df1['logSpotRate']\n",
    "\n",
    "#repeat this for all ccies\n",
    "for i in ccy_list[1:]:\n",
    "    tb=df.loc[df['Currency']==i]\n",
    "    tb['shiftlogfwd1m']=tb.logfwd1m.shift(1)\n",
    "    tb['ret']=tb['shiftlogfwd1m']-tb['logSpotRate']\n",
    "    #append all ccy dfs to form one df\n",
    "    df1=df1.append(tb)    "
   ]
  },
  {
   "cell_type": "code",
   "execution_count": null,
   "metadata": {},
   "outputs": [],
   "source": []
  }
 ],
 "metadata": {
  "kernelspec": {
   "display_name": "Python 3",
   "language": "python",
   "name": "python3"
  },
  "language_info": {
   "codemirror_mode": {
    "name": "ipython",
    "version": 3
   },
   "file_extension": ".py",
   "mimetype": "text/x-python",
   "name": "python",
   "nbconvert_exporter": "python",
   "pygments_lexer": "ipython3",
   "version": "3.6.4"
  }
 },
 "nbformat": 4,
 "nbformat_minor": 2
}
